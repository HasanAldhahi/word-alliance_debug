{
 "cells": [
  {
   "cell_type": "code",
   "execution_count": 1,
   "id": "3a56b268-810d-49ab-87d5-c5090cf7cdbf",
   "metadata": {},
   "outputs": [],
   "source": [
    "from datasets import load_multitask_data\n",
    "from bert import BertSelfAttention\n",
    "from bert import BertModel\n",
    "from config import PretrainedConfig\n",
    "import torch\n",
    "from datasets import SentencePairDataset"
   ]
  },
  {
   "cell_type": "code",
   "execution_count": 2,
   "id": "39f30c7b-5bae-473c-adc1-d1d7b9b99c47",
   "metadata": {},
   "outputs": [
    {
     "name": "stdout",
     "output_type": "stream",
     "text": [
      "Loaded 8544 train examples from data/ids-sst-train.csv\n",
      "Loaded 141498 train examples from data/quora-train.csv\n",
      "Loaded 6040 train examples from data/sts-train.csv\n"
     ]
    }
   ],
   "source": [
    "sentiment_data, num_labels, paraphrased_data, similarity_data = load_multitask_data(\"data/ids-sst-train.csv\", \"data/quora-train.csv\", \n",
    "                    \"data/sts-train.csv\")"
   ]
  },
  {
   "cell_type": "code",
   "execution_count": 3,
   "id": "a3c90542-93ff-4aad-8203-c4c88d228740",
   "metadata": {},
   "outputs": [
    {
     "data": {
      "text/plain": [
       "(\"the rock is destined to be the 21st century 's new `` conan '' and that he 's going to make a splash even greater than arnold schwarzenegger , jean-claud van damme or steven segal .\",\n",
       " 3,\n",
       " '32a4f146782cbde1b7fa65799')"
      ]
     },
     "execution_count": 3,
     "metadata": {},
     "output_type": "execute_result"
    }
   ],
   "source": [
    "sentiment_data[0]"
   ]
  },
  {
   "cell_type": "code",
   "execution_count": 4,
   "id": "cb0efc78-e290-42cc-855f-f25a76ee90d5",
   "metadata": {},
   "outputs": [],
   "source": [
    "\n",
    "class BertConfig(PretrainedConfig):\n",
    "  model_type = \"bert\"\n",
    "\n",
    "  def __init__(\n",
    "    self,\n",
    "    vocab_size=30522,\n",
    "    hidden_size=768,\n",
    "    num_hidden_layers=12,\n",
    "    num_attention_heads=12,\n",
    "    intermediate_size=3072,\n",
    "    hidden_act=\"gelu\",\n",
    "    hidden_dropout_prob=0.1,\n",
    "    attention_probs_dropout_prob=0.1,\n",
    "    max_position_embeddings=512,\n",
    "    type_vocab_size=2,\n",
    "    initializer_range=0.02,\n",
    "    layer_norm_eps=1e-12,\n",
    "    pad_token_id=0,\n",
    "    gradient_checkpointing=False,\n",
    "    position_embedding_type=\"absolute\",\n",
    "    use_cache=True,\n",
    "    name_or_path = \"checkpoint\",\n",
    "    **kwargs\n",
    "  ):\n",
    "    super().__init__(pad_token_id=pad_token_id, **kwargs)\n",
    "\n",
    "    self.vocab_size = vocab_size\n",
    "    self.hidden_size = hidden_size\n",
    "    self.num_hidden_layers = num_hidden_layers\n",
    "    self.num_attention_heads = num_attention_heads\n",
    "    self.hidden_act = hidden_act\n",
    "    self.intermediate_size = intermediate_size\n",
    "    self.hidden_dropout_prob = hidden_dropout_prob\n",
    "    self.attention_probs_dropout_prob = attention_probs_dropout_prob\n",
    "    self.max_position_embeddings = max_position_embeddings\n",
    "    self.type_vocab_size = type_vocab_size\n",
    "    self.initializer_range = initializer_range\n",
    "    self.layer_norm_eps = layer_norm_eps\n",
    "    self.gradient_checkpointing = gradient_checkpointing\n",
    "    self.position_embedding_type = position_embedding_type\n",
    "    self.use_cache = use_cache\n",
    "    self.name_or_path = name_or_path"
   ]
  },
  {
   "cell_type": "code",
   "execution_count": 5,
   "id": "2b59d73a-4959-42c0-a543-098055647857",
   "metadata": {},
   "outputs": [],
   "source": [
    "config = BertConfig()\n",
    "bert = BertModel(config)"
   ]
  },
  {
   "cell_type": "code",
   "execution_count": 6,
   "id": "6feb8982-88f4-4532-a12d-dec1dbc5334d",
   "metadata": {},
   "outputs": [
    {
     "data": {
      "text/plain": [
       "BertSelfAttention(\n",
       "  (query): Linear(in_features=768, out_features=768, bias=True)\n",
       "  (key): Linear(in_features=768, out_features=768, bias=True)\n",
       "  (value): Linear(in_features=768, out_features=768, bias=True)\n",
       "  (dropout): Dropout(p=0.1, inplace=False)\n",
       ")"
      ]
     },
     "execution_count": 6,
     "metadata": {},
     "output_type": "execute_result"
    }
   ],
   "source": [
    "bert.bert_layers[0].self_attention"
   ]
  },
  {
   "cell_type": "code",
   "execution_count": 7,
   "id": "2d6c3080",
   "metadata": {},
   "outputs": [],
   "source": [
    "data = SentencePairDataset(paraphrased_data,args=[])"
   ]
  },
  {
   "cell_type": "code",
   "execution_count": 19,
   "id": "e495d2b9",
   "metadata": {},
   "outputs": [],
   "source": [
    "padded_data = data.collate_fn(paraphrased_data[0:512])"
   ]
  },
  {
   "cell_type": "code",
   "execution_count": 20,
   "id": "7198bc01",
   "metadata": {},
   "outputs": [
    {
     "data": {
      "text/plain": [
       "torch.Size([512, 47])"
      ]
     },
     "execution_count": 20,
     "metadata": {},
     "output_type": "execute_result"
    }
   ],
   "source": [
    "padded_data['attention_mask_1'].size()"
   ]
  },
  {
   "cell_type": "code",
   "execution_count": 21,
   "id": "1c9bc1f6",
   "metadata": {},
   "outputs": [
    {
     "data": {
      "text/plain": [
       "torch.Size([512, 47])"
      ]
     },
     "execution_count": 21,
     "metadata": {},
     "output_type": "execute_result"
    }
   ],
   "source": [
    "padded_data['token_ids_1'].size()"
   ]
  },
  {
   "cell_type": "code",
   "execution_count": 22,
   "id": "69c73919",
   "metadata": {},
   "outputs": [
    {
     "data": {
      "text/plain": [
       "dict_keys(['token_ids_1', 'token_type_ids_1', 'attention_mask_1', 'token_ids_2', 'token_type_ids_2', 'attention_mask_2', 'labels', 'sent_ids'])"
      ]
     },
     "execution_count": 22,
     "metadata": {},
     "output_type": "execute_result"
    }
   ],
   "source": [
    "padded_data.keys()"
   ]
  },
  {
   "cell_type": "code",
   "execution_count": 23,
   "id": "bc08aedd",
   "metadata": {},
   "outputs": [
    {
     "data": {
      "text/plain": [
       "torch.Size([512, 47])"
      ]
     },
     "execution_count": 23,
     "metadata": {},
     "output_type": "execute_result"
    }
   ],
   "source": [
    "padded_data['token_ids_1'].shape"
   ]
  },
  {
   "cell_type": "code",
   "execution_count": 35,
   "id": "4ac6ea7d",
   "metadata": {},
   "outputs": [
    {
     "data": {
      "text/plain": [
       "torch.Size([512, 768, 768])"
      ]
     },
     "execution_count": 35,
     "metadata": {},
     "output_type": "execute_result"
    }
   ],
   "source": [
    "numeric_representation = padded_data['token_ids_1']\n",
    "hidden_state = torch.matmul(numeric_representation,torch.randint(low=0,high=100,size=(numeric_representation.shape[1],768)))\n",
    "hidden_state_expanded = hidden_state.unsqueeze(1)\n",
    "hidden_state_expanded = hidden_state_expanded.repeat(1, 12*64, 1)\n",
    "hidden_state_expanded.shape"
   ]
  },
  {
   "cell_type": "code",
   "execution_count": 31,
   "id": "08b54585",
   "metadata": {},
   "outputs": [
    {
     "data": {
      "text/plain": [
       "torch.Size([512, 768])"
      ]
     },
     "execution_count": 31,
     "metadata": {},
     "output_type": "execute_result"
    }
   ],
   "source": [
    "hidden_state.shape"
   ]
  },
  {
   "cell_type": "code",
   "execution_count": 29,
   "id": "f4d77c67",
   "metadata": {},
   "outputs": [
    {
     "data": {
      "text/plain": [
       "torch.Size([512, 768])"
      ]
     },
     "execution_count": 29,
     "metadata": {},
     "output_type": "execute_result"
    }
   ],
   "source": [
    "hidden_state.float().shape"
   ]
  },
  {
   "cell_type": "code",
   "execution_count": 42,
   "id": "607d1d4d",
   "metadata": {},
   "outputs": [
    {
     "data": {
      "text/plain": [
       "torch.Size([512, 1, 1, 47])"
      ]
     },
     "execution_count": 42,
     "metadata": {},
     "output_type": "execute_result"
    }
   ],
   "source": [
    "attention_mask = padded_data['attention_mask_1'].unsqueeze(1).unsqueeze(1)\n",
    "attention_mask.shape"
   ]
  },
  {
   "cell_type": "code",
   "execution_count": 43,
   "id": "c79d89e3",
   "metadata": {},
   "outputs": [
    {
     "ename": "NotImplementedError",
     "evalue": "",
     "output_type": "error",
     "traceback": [
      "\u001b[1;31m---------------------------------------------------------------------------\u001b[0m",
      "\u001b[1;31mNotImplementedError\u001b[0m                       Traceback (most recent call last)",
      "Cell \u001b[1;32mIn[43], line 1\u001b[0m\n\u001b[1;32m----> 1\u001b[0m bert\u001b[39m.\u001b[39;49mbert_layers[\u001b[39m0\u001b[39;49m]\u001b[39m.\u001b[39;49mself_attention\u001b[39m.\u001b[39;49mforward(hidden_states \u001b[39m=\u001b[39;49m hidden_state_expanded\u001b[39m.\u001b[39;49mfloat(),attention_mask \u001b[39m=\u001b[39;49m attention_mask)\n",
      "File \u001b[1;32mc:\\Users\\sago\\Documents\\GitHub\\word-alliance\\bert.py:65\u001b[0m, in \u001b[0;36mBertSelfAttention.forward\u001b[1;34m(self, hidden_states, attention_mask)\u001b[0m\n\u001b[0;32m     63\u001b[0m query_layer \u001b[39m=\u001b[39m \u001b[39mself\u001b[39m\u001b[39m.\u001b[39mtransform(hidden_states, \u001b[39mself\u001b[39m\u001b[39m.\u001b[39mquery)\n\u001b[0;32m     64\u001b[0m \u001b[39m# calculate the multi-head attention \u001b[39;00m\n\u001b[1;32m---> 65\u001b[0m attn_value \u001b[39m=\u001b[39m \u001b[39mself\u001b[39;49m\u001b[39m.\u001b[39;49mattention(key_layer, query_layer, value_layer, attention_mask)\n\u001b[0;32m     66\u001b[0m \u001b[39mreturn\u001b[39;00m attn_value\n",
      "File \u001b[1;32mc:\\Users\\sago\\Documents\\GitHub\\word-alliance\\bert.py:50\u001b[0m, in \u001b[0;36mBertSelfAttention.attention\u001b[1;34m(self, key, query, value, attention_mask)\u001b[0m\n\u001b[0;32m     37\u001b[0m \u001b[39mdef\u001b[39;00m \u001b[39mattention\u001b[39m(\u001b[39mself\u001b[39m, key, query, value, attention_mask):\n\u001b[0;32m     38\u001b[0m   \u001b[39m# each attention is calculated following eq (1) of https://arxiv.org/pdf/1706.03762.pdf\u001b[39;00m\n\u001b[0;32m     39\u001b[0m   \u001b[39m# attention scores are calculated by multiply query and key \u001b[39;00m\n\u001b[1;32m   (...)\u001b[0m\n\u001b[0;32m     48\u001b[0m \n\u001b[0;32m     49\u001b[0m   \u001b[39m### TODO\u001b[39;00m\n\u001b[1;32m---> 50\u001b[0m   \u001b[39mraise\u001b[39;00m \u001b[39mNotImplementedError\u001b[39;00m\n",
      "\u001b[1;31mNotImplementedError\u001b[0m: "
     ]
    }
   ],
   "source": [
    "bert.bert_layers[0].self_attention.forward(hidden_states = hidden_state_expanded.float(),attention_mask = attention_mask)"
   ]
  }
 ],
 "metadata": {
  "kernelspec": {
   "display_name": "Python 3 (ipykernel)",
   "language": "python",
   "name": "python3"
  },
  "language_info": {
   "codemirror_mode": {
    "name": "ipython",
    "version": 3
   },
   "file_extension": ".py",
   "mimetype": "text/x-python",
   "name": "python",
   "nbconvert_exporter": "python",
   "pygments_lexer": "ipython3",
   "version": "3.8.16"
  }
 },
 "nbformat": 4,
 "nbformat_minor": 5
}
