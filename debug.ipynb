{
 "cells": [
  {
   "cell_type": "code",
   "execution_count": 136,
   "id": "3a56b268-810d-49ab-87d5-c5090cf7cdbf",
   "metadata": {},
   "outputs": [],
   "source": [
    "from datasets import load_multitask_data\n",
    "from bert import BertSelfAttention\n",
    "from bert import BertModel\n",
    "from config import PretrainedConfig\n",
    "import torch\n",
    "from datasets import SentencePairDataset\n",
    "from tokenizer import BertTokenizer\n"
   ]
  },
  {
   "cell_type": "code",
   "execution_count": 137,
   "id": "ba511a0e",
   "metadata": {},
   "outputs": [],
   "source": [
    "#This library gives a better idea of how to compute the hidden states\n",
    "# https://github.com/codertimo\n",
    "# https://pypi.org/project/bert-pytorch/\n",
    "from bert_pytorch.model.embedding.bert import *"
   ]
  },
  {
   "cell_type": "code",
   "execution_count": 138,
   "id": "39f30c7b-5bae-473c-adc1-d1d7b9b99c47",
   "metadata": {},
   "outputs": [
    {
     "name": "stdout",
     "output_type": "stream",
     "text": [
      "Loaded 8544 train examples from data/ids-sst-train.csv\n",
      "Loaded 141498 train examples from data/quora-train.csv\n",
      "Loaded 6040 train examples from data/sts-train.csv\n"
     ]
    },
    {
     "data": {
      "text/plain": [
       "(\"the rock is destined to be the 21st century 's new `` conan '' and that he 's going to make a splash even greater than arnold schwarzenegger , jean-claud van damme or steven segal .\",\n",
       " 3,\n",
       " '32a4f146782cbde1b7fa65799')"
      ]
     },
     "execution_count": 138,
     "metadata": {},
     "output_type": "execute_result"
    }
   ],
   "source": [
    "# Load project's datasets\n",
    "sentiment_data, num_labels, paraphrased_data, similarity_data = load_multitask_data(\"data/ids-sst-train.csv\", \"data/quora-train.csv\", \n",
    "                    \"data/sts-train.csv\")\n",
    "#Show example \n",
    "sentiment_data[0]"
   ]
  },
  {
   "cell_type": "code",
   "execution_count": 139,
   "id": "cb0efc78-e290-42cc-855f-f25a76ee90d5",
   "metadata": {},
   "outputs": [],
   "source": [
    "# Get initialization parameters to validate the methods we create\n",
    "class BertConfig(PretrainedConfig):\n",
    "  model_type = \"bert\"\n",
    "\n",
    "  def __init__(\n",
    "    self,\n",
    "    vocab_size=30522,\n",
    "    hidden_size=768,\n",
    "    num_hidden_layers=12,\n",
    "    num_attention_heads=12,\n",
    "    intermediate_size=3072,\n",
    "    hidden_act=\"gelu\",\n",
    "    hidden_dropout_prob=0.1,\n",
    "    attention_probs_dropout_prob=0.1,\n",
    "    max_position_embeddings=512,\n",
    "    type_vocab_size=2,\n",
    "    initializer_range=0.02,\n",
    "    layer_norm_eps=1e-12,\n",
    "    pad_token_id=0,\n",
    "    gradient_checkpointing=False,\n",
    "    position_embedding_type=\"absolute\",\n",
    "    use_cache=True,\n",
    "    name_or_path = \"checkpoint\",\n",
    "    **kwargs\n",
    "  ):\n",
    "    super().__init__(pad_token_id=pad_token_id, **kwargs)\n",
    "\n",
    "    self.vocab_size = vocab_size\n",
    "    self.hidden_size = hidden_size\n",
    "    self.num_hidden_layers = num_hidden_layers\n",
    "    self.num_attention_heads = num_attention_heads\n",
    "    self.hidden_act = hidden_act\n",
    "    self.intermediate_size = intermediate_size\n",
    "    self.hidden_dropout_prob = hidden_dropout_prob\n",
    "    self.attention_probs_dropout_prob = attention_probs_dropout_prob\n",
    "    self.max_position_embeddings = max_position_embeddings\n",
    "    self.type_vocab_size = type_vocab_size\n",
    "    self.initializer_range = initializer_range\n",
    "    self.layer_norm_eps = layer_norm_eps\n",
    "    self.gradient_checkpointing = gradient_checkpointing\n",
    "    self.position_embedding_type = position_embedding_type\n",
    "    self.use_cache = use_cache\n",
    "    self.name_or_path = name_or_path"
   ]
  },
  {
   "cell_type": "code",
   "execution_count": 140,
   "id": "2b59d73a-4959-42c0-a543-098055647857",
   "metadata": {},
   "outputs": [],
   "source": [
    "config = BertConfig()\n",
    "bert = BertModel(config)"
   ]
  },
  {
   "cell_type": "code",
   "execution_count": 32,
   "id": "0edd4935",
   "metadata": {},
   "outputs": [],
   "source": [
    "tokenizer = BertTokenizer.from_pretrained('bert-base-uncased')"
   ]
  },
  {
   "cell_type": "code",
   "execution_count": 132,
   "id": "54a61dbd",
   "metadata": {},
   "outputs": [],
   "source": [
    "encoding1 = tokenizer(sentence1, return_tensors='pt', padding='max_length', truncation=True,max_length=512)"
   ]
  },
  {
   "cell_type": "code",
   "execution_count": 135,
   "id": "4d34c41d",
   "metadata": {},
   "outputs": [
    {
     "data": {
      "text/plain": [
       "torch.Size([1024, 512])"
      ]
     },
     "execution_count": 135,
     "metadata": {},
     "output_type": "execute_result"
    }
   ],
   "source": [
    "encoding1['input_ids'].shape"
   ]
  },
  {
   "cell_type": "code",
   "execution_count": 141,
   "id": "2484260f",
   "metadata": {},
   "outputs": [
    {
     "name": "stdout",
     "output_type": "stream",
     "text": [
      "token_ids_1 torch.Size([1024, 49])\n",
      "token_type_ids_1 torch.Size([1024, 49])\n",
      "attention_mask_1 torch.Size([1024, 49])\n",
      "token_ids_2 torch.Size([1024, 76])\n",
      "token_type_ids_2 torch.Size([1024, 76])\n",
      "attention_mask_2 torch.Size([1024, 76])\n",
      "labels torch.Size([1024])\n",
      "sent_ids 8\n"
     ]
    }
   ],
   "source": [
    "#TODO explore how the sentencePairDataset tokenizes and enumerates the raw data\n",
    "data = SentencePairDataset(paraphrased_data,args=[])\n",
    "BS = 1024 #batch size\n",
    "padded_data = data.collate_fn(paraphrased_data[0:BS])\n",
    "padded_data.keys()\n",
    "for k,v in padded_data.items():\n",
    "    if isinstance(v,list):\n",
    "        print(k,len(k))\n",
    "    else:\n",
    "        print(k,v.size())"
   ]
  },
  {
   "cell_type": "code",
   "execution_count": 154,
   "id": "b3646726",
   "metadata": {},
   "outputs": [
    {
     "data": {
      "text/plain": [
       "tensor([1, 1, 1, 1, 1, 1, 1, 1, 1, 1, 1, 1, 1, 0, 0, 0, 0, 0, 0, 0, 0, 0, 0, 0,\n",
       "        0, 0, 0, 0, 0, 0, 0, 0, 0, 0, 0, 0, 0, 0, 0, 0, 0, 0, 0, 0, 0, 0, 0, 0,\n",
       "        0])"
      ]
     },
     "execution_count": 154,
     "metadata": {},
     "output_type": "execute_result"
    }
   ],
   "source": [
    "\n",
    "padded_data['attention_mask_1'][2]"
   ]
  },
  {
   "cell_type": "code",
   "execution_count": 156,
   "id": "67fc9eff",
   "metadata": {},
   "outputs": [
    {
     "data": {
      "text/plain": [
       "tensor([ 101, 2040, 2003, 1996, 2190, 3539, 2704, 2634, 2038, 2412, 2018, 1029,\n",
       "         102,    0,    0,    0,    0,    0,    0,    0,    0,    0,    0,    0,\n",
       "           0,    0,    0,    0,    0,    0,    0,    0,    0,    0,    0,    0,\n",
       "           0,    0,    0,    0,    0,    0,    0,    0,    0,    0,    0,    0,\n",
       "           0])"
      ]
     },
     "execution_count": 156,
     "metadata": {},
     "output_type": "execute_result"
    }
   ],
   "source": [
    "padded_data['token_ids_1'][2]"
   ]
  },
  {
   "cell_type": "code",
   "execution_count": 166,
   "id": "35cbd6ca",
   "metadata": {},
   "outputs": [
    {
     "data": {
      "text/plain": [
       "tensor([0, 0, 0, 0, 0, 0, 0, 0, 0, 0, 0, 0, 0, 0, 0, 0, 0, 0, 0, 0, 0, 0, 0, 0,\n",
       "        0, 0, 0, 0, 0, 0, 0, 0, 0, 0, 0, 0, 0, 0, 0, 0, 0, 0, 0, 0, 0, 0, 0, 0,\n",
       "        0])"
      ]
     },
     "execution_count": 166,
     "metadata": {},
     "output_type": "execute_result"
    }
   ],
   "source": [
    "padded_data['token_type_ids_1'][2]"
   ]
  },
  {
   "cell_type": "code",
   "execution_count": 163,
   "id": "5616498d",
   "metadata": {},
   "outputs": [],
   "source": [
    "#Initialize the bert embedding implementation found on github\n",
    "encoder = BERTEmbedding(vocab_size=config.vocab_size,embed_size=config.hidden_size)\n",
    "token_ids_encoding = padded_data['token_ids_1']\n",
    "attention_mask = padded_data['attention_mask_1']\n",
    "\n",
    "mistery_number = token_ids_encoding.size()[1]\n",
    "#The mistery number appears to be seq_len which reflects the size of the largest tokenized and encoded input sequence\n",
    "# That is why when we increase the batch size, it is going to change depending on the new largest\n",
    "# tokenized input sequence from that batch.\n",
    "# segment label corresponds to token_types_ids\n",
    "segment_label = padded_data['token_type_ids_1']\n",
    "# We randomized the segment label, but it depends on the one we picked\n",
    "hidden_states = encoder.forward(token_ids_encoding,segment_label)"
   ]
  },
  {
   "cell_type": "code",
   "execution_count": 164,
   "id": "136cb00d",
   "metadata": {},
   "outputs": [
    {
     "data": {
      "text/plain": [
       "torch.Size([1024, 49, 768])"
      ]
     },
     "execution_count": 164,
     "metadata": {},
     "output_type": "execute_result"
    }
   ],
   "source": [
    "hidden_states.shape"
   ]
  },
  {
   "cell_type": "code",
   "execution_count": 8,
   "id": "9384b54f",
   "metadata": {},
   "outputs": [
    {
     "data": {
      "text/plain": [
       "tensor([1, 1, 1, 1, 1, 1, 1, 1, 1, 1, 0, 0, 0, 0, 0, 0, 0, 0, 0, 0, 0, 0, 0, 0,\n",
       "        0, 0, 0, 0, 0, 0, 0, 0, 0, 0, 0, 0, 0, 0, 0, 0, 0, 0, 0, 0, 0, 0, 0])"
      ]
     },
     "execution_count": 8,
     "metadata": {},
     "output_type": "execute_result"
    }
   ],
   "source": [
    "attention_mask[100]"
   ]
  },
  {
   "cell_type": "code",
   "execution_count": 165,
   "id": "6741d022",
   "metadata": {},
   "outputs": [
    {
     "ename": "NotImplementedError",
     "evalue": "",
     "output_type": "error",
     "traceback": [
      "\u001b[1;31m---------------------------------------------------------------------------\u001b[0m",
      "\u001b[1;31mNotImplementedError\u001b[0m                       Traceback (most recent call last)",
      "Cell \u001b[1;32mIn[165], line 1\u001b[0m\n\u001b[1;32m----> 1\u001b[0m bert\u001b[39m.\u001b[39;49mbert_layers[\u001b[39m0\u001b[39;49m]\u001b[39m.\u001b[39;49mself_attention\u001b[39m.\u001b[39;49mforward(hidden_states \u001b[39m=\u001b[39;49m hidden_states,attention_mask \u001b[39m=\u001b[39;49m attention_mask)\n",
      "File \u001b[1;32mc:\\Users\\sago\\Documents\\GitHub\\word-alliance\\bert.py:65\u001b[0m, in \u001b[0;36mBertSelfAttention.forward\u001b[1;34m(self, hidden_states, attention_mask)\u001b[0m\n\u001b[0;32m     63\u001b[0m query_layer \u001b[39m=\u001b[39m \u001b[39mself\u001b[39m\u001b[39m.\u001b[39mtransform(hidden_states, \u001b[39mself\u001b[39m\u001b[39m.\u001b[39mquery)\n\u001b[0;32m     64\u001b[0m \u001b[39m# calculate the multi-head attention \u001b[39;00m\n\u001b[1;32m---> 65\u001b[0m attn_value \u001b[39m=\u001b[39m \u001b[39mself\u001b[39;49m\u001b[39m.\u001b[39;49mattention(key_layer, query_layer, value_layer, attention_mask)\n\u001b[0;32m     66\u001b[0m \u001b[39mreturn\u001b[39;00m attn_value\n",
      "File \u001b[1;32mc:\\Users\\sago\\Documents\\GitHub\\word-alliance\\bert.py:50\u001b[0m, in \u001b[0;36mBertSelfAttention.attention\u001b[1;34m(self, key, query, value, attention_mask)\u001b[0m\n\u001b[0;32m     37\u001b[0m \u001b[39mdef\u001b[39;00m \u001b[39mattention\u001b[39m(\u001b[39mself\u001b[39m, key, query, value, attention_mask):\n\u001b[0;32m     38\u001b[0m   \u001b[39m# each attention is calculated following eq (1) of https://arxiv.org/pdf/1706.03762.pdf\u001b[39;00m\n\u001b[0;32m     39\u001b[0m   \u001b[39m# attention scores are calculated by multiply query and key \u001b[39;00m\n\u001b[1;32m   (...)\u001b[0m\n\u001b[0;32m     48\u001b[0m \n\u001b[0;32m     49\u001b[0m   \u001b[39m### TODO\u001b[39;00m\n\u001b[1;32m---> 50\u001b[0m   \u001b[39mraise\u001b[39;00m \u001b[39mNotImplementedError\u001b[39;00m\n",
      "\u001b[1;31mNotImplementedError\u001b[0m: "
     ]
    }
   ],
   "source": [
    "bert.bert_layers[0].self_attention.forward(hidden_states = hidden_states,attention_mask = attention_mask)"
   ]
  }
 ],
 "metadata": {
  "kernelspec": {
   "display_name": "Python 3 (ipykernel)",
   "language": "python",
   "name": "python3"
  },
  "language_info": {
   "codemirror_mode": {
    "name": "ipython",
    "version": 3
   },
   "file_extension": ".py",
   "mimetype": "text/x-python",
   "name": "python",
   "nbconvert_exporter": "python",
   "pygments_lexer": "ipython3",
   "version": "3.8.16"
  }
 },
 "nbformat": 4,
 "nbformat_minor": 5
}
