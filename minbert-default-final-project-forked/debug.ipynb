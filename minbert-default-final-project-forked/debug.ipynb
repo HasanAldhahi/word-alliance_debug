{
 "cells": [
  {
   "cell_type": "code",
   "execution_count": 1,
   "id": "3a56b268-810d-49ab-87d5-c5090cf7cdbf",
   "metadata": {},
   "outputs": [],
   "source": [
    "from datasets import load_multitask_data\n"
   ]
  },
  {
   "cell_type": "code",
   "execution_count": 6,
   "id": "39f30c7b-5bae-473c-adc1-d1d7b9b99c47",
   "metadata": {},
   "outputs": [
    {
     "name": "stdout",
     "output_type": "stream",
     "text": [
      "Loaded 8544 train examples from data/ids-sst-train.csv\n",
      "Loaded 141498 train examples from data/quora-train.csv\n",
      "Loaded 6040 train examples from data/sts-train.csv\n"
     ]
    }
   ],
   "source": [
    "sentiment_data, num_labels, paraphrased_data, similarity_data = load_multitask_data(\"data/ids-sst-train.csv\", \"data/quora-train.csv\", \n",
    "                    \"data/sts-train.csv\")"
   ]
  },
  {
   "cell_type": "code",
   "execution_count": 9,
   "id": "a3c90542-93ff-4aad-8203-c4c88d228740",
   "metadata": {},
   "outputs": [
    {
     "data": {
      "text/plain": [
       "(\"the rock is destined to be the 21st century 's new `` conan '' and that he 's going to make a splash even greater than arnold schwarzenegger , jean-claud van damme or steven segal .\",\n",
       " 3,\n",
       " '32a4f146782cbde1b7fa65799')"
      ]
     },
     "execution_count": 9,
     "metadata": {},
     "output_type": "execute_result"
    }
   ],
   "source": [
    "sentiment_data[0]"
   ]
  },
  {
   "cell_type": "code",
   "execution_count": 1,
   "id": "cb0efc78-e290-42cc-855f-f25a76ee90d5",
   "metadata": {},
   "outputs": [],
   "source": [
    "from bert import BertSelfAttention\n",
    "from bert import BertModel"
   ]
  },
  {
   "cell_type": "code",
   "execution_count": 2,
   "id": "de901186-3cea-4def-a17b-97330586f258",
   "metadata": {},
   "outputs": [],
   "source": [
    "from config import BertConfig"
   ]
  },
  {
   "cell_type": "code",
   "execution_count": 3,
   "id": "2b59d73a-4959-42c0-a543-098055647857",
   "metadata": {},
   "outputs": [],
   "source": [
    "config = BertConfig()\n",
    "bert = BertModel(config)"
   ]
  },
  {
   "cell_type": "code",
   "execution_count": 18,
   "id": "616d3028-51bc-4443-9181-9af4aefec34e",
   "metadata": {},
   "outputs": [],
   "source": [
    "config.name_or_path = \"checkpoint\""
   ]
  },
  {
   "cell_type": "code",
   "execution_count": 7,
   "id": "6feb8982-88f4-4532-a12d-dec1dbc5334d",
   "metadata": {},
   "outputs": [
    {
     "data": {
      "text/plain": [
       "BertSelfAttention(\n",
       "  (query): Linear(in_features=768, out_features=768, bias=True)\n",
       "  (key): Linear(in_features=768, out_features=768, bias=True)\n",
       "  (value): Linear(in_features=768, out_features=768, bias=True)\n",
       "  (dropout): Dropout(p=0.1, inplace=False)\n",
       ")"
      ]
     },
     "execution_count": 7,
     "metadata": {},
     "output_type": "execute_result"
    }
   ],
   "source": [
    "bert.bert_layers[0].self_attention"
   ]
  }
 ],
 "metadata": {
  "kernelspec": {
   "display_name": "Python 3 (ipykernel)",
   "language": "python",
   "name": "python3"
  },
  "language_info": {
   "codemirror_mode": {
    "name": "ipython",
    "version": 3
   },
   "file_extension": ".py",
   "mimetype": "text/x-python",
   "name": "python",
   "nbconvert_exporter": "python",
   "pygments_lexer": "ipython3",
   "version": "3.8.16"
  }
 },
 "nbformat": 4,
 "nbformat_minor": 5
}
